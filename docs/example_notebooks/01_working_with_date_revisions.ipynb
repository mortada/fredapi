{
 "cells": [
  {
   "cell_type": "markdown",
   "id": "5853cf70-3cff-438d-8a4b-6c993487250d",
   "metadata": {},
   "source": [
    "# Working with Date Revisions"
   ]
  },
  {
   "cell_type": "markdown",
   "id": "95acf2f8-b50e-41b5-a55b-579392f13da3",
   "metadata": {},
   "source": [
    "Many economic data series contain frequent revisions. `fredapi` provides several convenient methods for handling data revisions and answering the quesion of what-data-was-known-when.\n",
    "\n",
    "In [ALFRED](http://research.stlouisfed.org/tips/alfred/) there is the concept of a *vintage* date. Basically every *observation* can have three dates associated with it: *date*, *realtime_start* and *realtime_end*.\n",
    "\n",
    "- date: the date the value is for\n",
    "- realtime_start: the first date the value is valid\n",
    "- realitime_end: the last date the value is valid\n",
    "\n",
    "For instance, there has been three observations (data points) for the GDP of 2014 Q1:\n",
    "\n",
    "```xml\n",
    "<observation realtime_start=\"2014-04-30\" realtime_end=\"2014-05-28\" date=\"2014-01-01\" value=\"17149.6\"/>\n",
    "<observation realtime_start=\"2014-05-29\" realtime_end=\"2014-06-24\" date=\"2014-01-01\" value=\"17101.3\"/>\n",
    "<observation realtime_start=\"2014-06-25\" realtime_end=\"2014-07-29\" date=\"2014-01-01\" value=\"17016.0\"/>\n",
    "```\n",
    "\n",
    "This means the GDP value for Q1 2014 has been released three times. First release was on 4/30/2014 for a value of 17149.6, and then there have been two revisions on 5/29/2014 and 6/25/2014 for revised values of 17101.3 and 17016.0, respectively."
   ]
  },
  {
   "cell_type": "code",
   "execution_count": 1,
   "id": "dd00b8cd-ffdc-437c-9762-cff9a25fce9b",
   "metadata": {},
   "outputs": [],
   "source": [
    "from fredapi import Fred"
   ]
  },
  {
   "cell_type": "code",
   "execution_count": 2,
   "id": "a9142239-7cd9-4bad-bccf-3e8523080084",
   "metadata": {},
   "outputs": [],
   "source": [
    "fred = Fred(api_key='insert api key here')"
   ]
  },
  {
   "cell_type": "markdown",
   "id": "3efced37-e20e-449b-b372-f01f4742fba6",
   "metadata": {},
   "source": [
    "## Get first data release only (i.e. ignore revisions)"
   ]
  },
  {
   "cell_type": "code",
   "execution_count": 3,
   "id": "626f1ba2-62b3-4252-8c4d-c3af46c382d0",
   "metadata": {},
   "outputs": [
    {
     "data": {
      "text/plain": [
       "date\n",
       "2020-07-01    21157.635\n",
       "2020-10-01    21479.529\n",
       "2021-01-01    22048.894\n",
       "2021-04-01    22722.581\n",
       "2021-07-01    23173.496\n",
       "Name: value, dtype: object"
      ]
     },
     "execution_count": 3,
     "metadata": {},
     "output_type": "execute_result"
    }
   ],
   "source": [
    "gpd_first_release = fred.get_series_first_release('GDP')\n",
    "gpd_first_release.tail()"
   ]
  },
  {
   "cell_type": "markdown",
   "id": "8a81a8cd-213b-4476-a615-e59cce059398",
   "metadata": {},
   "source": [
    "## Get latest data\n",
    "\n",
    "**Note**: that this is the same as simply calling `get_series()`"
   ]
  },
  {
   "cell_type": "code",
   "execution_count": 4,
   "id": "bd7d4b49-26f6-44f0-8dc5-8fef77352e77",
   "metadata": {},
   "outputs": [
    {
     "data": {
      "text/plain": [
       "2020-07-01    21138.574\n",
       "2020-10-01    21477.597\n",
       "2021-01-01    22038.226\n",
       "2021-04-01    22740.959\n",
       "2021-07-01    23173.496\n",
       "dtype: float64"
      ]
     },
     "execution_count": 4,
     "metadata": {},
     "output_type": "execute_result"
    }
   ],
   "source": [
    "gdp_latest_release = fred.get_series_latest_release('GDP')\n",
    "gdp_latest_release.tail()"
   ]
  },
  {
   "cell_type": "markdown",
   "id": "f6f4f023-d01d-4b78-a606-9a38904fec61",
   "metadata": {},
   "source": [
    "## Get latest data known on a given date"
   ]
  },
  {
   "cell_type": "code",
   "execution_count": 7,
   "id": "d12d1e61-2ef7-427f-b6de-8f6dca217dbd",
   "metadata": {},
   "outputs": [
    {
     "data": {
      "text/html": [
       "<div>\n",
       "<style scoped>\n",
       "    .dataframe tbody tr th:only-of-type {\n",
       "        vertical-align: middle;\n",
       "    }\n",
       "\n",
       "    .dataframe tbody tr th {\n",
       "        vertical-align: top;\n",
       "    }\n",
       "\n",
       "    .dataframe thead th {\n",
       "        text-align: right;\n",
       "    }\n",
       "</style>\n",
       "<table border=\"1\" class=\"dataframe\">\n",
       "  <thead>\n",
       "    <tr style=\"text-align: right;\">\n",
       "      <th></th>\n",
       "      <th>realtime_start</th>\n",
       "      <th>date</th>\n",
       "      <th>value</th>\n",
       "    </tr>\n",
       "  </thead>\n",
       "  <tbody>\n",
       "    <tr>\n",
       "      <th>2837</th>\n",
       "      <td>2014-01-30</td>\n",
       "      <td>2013-10-01</td>\n",
       "      <td>17102.5</td>\n",
       "    </tr>\n",
       "    <tr>\n",
       "      <th>2838</th>\n",
       "      <td>2014-02-28</td>\n",
       "      <td>2013-10-01</td>\n",
       "      <td>17080.7</td>\n",
       "    </tr>\n",
       "    <tr>\n",
       "      <th>2839</th>\n",
       "      <td>2014-03-27</td>\n",
       "      <td>2013-10-01</td>\n",
       "      <td>17089.6</td>\n",
       "    </tr>\n",
       "    <tr>\n",
       "      <th>2846</th>\n",
       "      <td>2014-04-30</td>\n",
       "      <td>2014-01-01</td>\n",
       "      <td>17149.6</td>\n",
       "    </tr>\n",
       "    <tr>\n",
       "      <th>2847</th>\n",
       "      <td>2014-05-29</td>\n",
       "      <td>2014-01-01</td>\n",
       "      <td>17101.3</td>\n",
       "    </tr>\n",
       "  </tbody>\n",
       "</table>\n",
       "</div>"
      ],
      "text/plain": [
       "     realtime_start       date    value\n",
       "2837     2014-01-30 2013-10-01  17102.5\n",
       "2838     2014-02-28 2013-10-01  17080.7\n",
       "2839     2014-03-27 2013-10-01  17089.6\n",
       "2846     2014-04-30 2014-01-01  17149.6\n",
       "2847     2014-05-29 2014-01-01  17101.3"
      ]
     },
     "execution_count": 7,
     "metadata": {},
     "output_type": "execute_result"
    }
   ],
   "source": [
    "gdp_on_20140601 = fred.get_series_as_of_date('GDP', '6/1/2014')\n",
    "gdp_on_20140601.tail()"
   ]
  },
  {
   "cell_type": "markdown",
   "id": "3c6be728-96ce-40ab-ab3f-da9287da62f6",
   "metadata": {},
   "source": [
    "## Get all data release dates\n",
    "\n",
    "This returns a `DataFrame` with all the data from ALFRED"
   ]
  },
  {
   "cell_type": "code",
   "execution_count": 8,
   "id": "36c12561-b11a-45c6-981e-5abbc089022d",
   "metadata": {},
   "outputs": [
    {
     "data": {
      "text/html": [
       "<div>\n",
       "<style scoped>\n",
       "    .dataframe tbody tr th:only-of-type {\n",
       "        vertical-align: middle;\n",
       "    }\n",
       "\n",
       "    .dataframe tbody tr th {\n",
       "        vertical-align: top;\n",
       "    }\n",
       "\n",
       "    .dataframe thead th {\n",
       "        text-align: right;\n",
       "    }\n",
       "</style>\n",
       "<table border=\"1\" class=\"dataframe\">\n",
       "  <thead>\n",
       "    <tr style=\"text-align: right;\">\n",
       "      <th></th>\n",
       "      <th>realtime_start</th>\n",
       "      <th>date</th>\n",
       "      <th>value</th>\n",
       "    </tr>\n",
       "  </thead>\n",
       "  <tbody>\n",
       "    <tr>\n",
       "      <th>3061</th>\n",
       "      <td>2021-07-29</td>\n",
       "      <td>2021-01-01</td>\n",
       "      <td>22038.226</td>\n",
       "    </tr>\n",
       "    <tr>\n",
       "      <th>3062</th>\n",
       "      <td>2021-07-29</td>\n",
       "      <td>2021-04-01</td>\n",
       "      <td>22722.581</td>\n",
       "    </tr>\n",
       "    <tr>\n",
       "      <th>3063</th>\n",
       "      <td>2021-08-26</td>\n",
       "      <td>2021-04-01</td>\n",
       "      <td>22731.369</td>\n",
       "    </tr>\n",
       "    <tr>\n",
       "      <th>3064</th>\n",
       "      <td>2021-09-30</td>\n",
       "      <td>2021-04-01</td>\n",
       "      <td>22740.959</td>\n",
       "    </tr>\n",
       "    <tr>\n",
       "      <th>3065</th>\n",
       "      <td>2021-10-28</td>\n",
       "      <td>2021-07-01</td>\n",
       "      <td>23173.496</td>\n",
       "    </tr>\n",
       "  </tbody>\n",
       "</table>\n",
       "</div>"
      ],
      "text/plain": [
       "     realtime_start       date      value\n",
       "3061     2021-07-29 2021-01-01  22038.226\n",
       "3062     2021-07-29 2021-04-01  22722.581\n",
       "3063     2021-08-26 2021-04-01  22731.369\n",
       "3064     2021-09-30 2021-04-01  22740.959\n",
       "3065     2021-10-28 2021-07-01  23173.496"
      ]
     },
     "execution_count": 8,
     "metadata": {},
     "output_type": "execute_result"
    }
   ],
   "source": [
    "gdp_all_releases = fred.get_series_all_releases('GDP')\n",
    "gdp_all_releases.tail()"
   ]
  }
 ],
 "metadata": {
  "kernelspec": {
   "display_name": "fredapi",
   "language": "python",
   "name": "fredapi"
  },
  "language_info": {
   "codemirror_mode": {
    "name": "ipython",
    "version": 3
   },
   "file_extension": ".py",
   "mimetype": "text/x-python",
   "name": "python",
   "nbconvert_exporter": "python",
   "pygments_lexer": "ipython3",
   "version": "3.10.0"
  }
 },
 "nbformat": 4,
 "nbformat_minor": 5
}
