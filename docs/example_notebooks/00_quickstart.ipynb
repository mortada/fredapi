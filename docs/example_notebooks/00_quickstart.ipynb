{
 "cells": [
  {
   "cell_type": "markdown",
   "id": "022d6da4-ae50-4e44-b76a-d80a6bba7810",
   "metadata": {},
   "source": [
    "# Basic Usage"
   ]
  },
  {
   "cell_type": "markdown",
   "id": "7673796e-b76d-4052-89f7-a35bd1a3efb1",
   "metadata": {},
   "source": [
    "First you need an API key, you can [apply for one](http://api.stlouisfed.org/api_key.html) for free on the FRED website.\n",
    "Once you have your API key, you can set it in one of three ways:\n",
    "\n",
    "* set it to the environment variable FRED_API_KEY\n",
    "* save it to a file and use the 'api_key_file' parameter\n",
    "* pass it directly as the 'api_key' parameter"
   ]
  },
  {
   "cell_type": "code",
   "execution_count": 1,
   "id": "aa845ba8-c4da-4ae0-b2d3-373cc298d8fc",
   "metadata": {},
   "outputs": [],
   "source": [
    "from fredapi import Fred"
   ]
  },
  {
   "cell_type": "code",
   "execution_count": 3,
   "id": "9fc75965-53ad-4b3b-b981-b0721d44a9ed",
   "metadata": {},
   "outputs": [],
   "source": [
    "fred = Fred(api_key='insert api key here')"
   ]
  },
  {
   "cell_type": "code",
   "execution_count": 4,
   "id": "7cec4506-a219-48b4-b062-5a26dbd83d1f",
   "metadata": {},
   "outputs": [],
   "source": [
    "sp500_data = fred.get_series('SP500')"
   ]
  },
  {
   "cell_type": "code",
   "execution_count": 5,
   "id": "ac29ef89-d990-44c2-9935-3458b2fcb507",
   "metadata": {},
   "outputs": [
    {
     "data": {
      "text/plain": [
       "2011-11-14    1251.78\n",
       "2011-11-15    1257.81\n",
       "2011-11-16    1236.91\n",
       "2011-11-17    1216.13\n",
       "2011-11-18    1215.65\n",
       "dtype: float64"
      ]
     },
     "execution_count": 5,
     "metadata": {},
     "output_type": "execute_result"
    }
   ],
   "source": [
    "sp500_data.head()"
   ]
  }
 ],
 "metadata": {
  "kernelspec": {
   "display_name": "fredapi",
   "language": "python",
   "name": "fredapi"
  },
  "language_info": {
   "codemirror_mode": {
    "name": "ipython",
    "version": 3
   },
   "file_extension": ".py",
   "mimetype": "text/x-python",
   "name": "python",
   "nbconvert_exporter": "python",
   "pygments_lexer": "ipython3",
   "version": "3.10.0"
  }
 },
 "nbformat": 4,
 "nbformat_minor": 5
}
